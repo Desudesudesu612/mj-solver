{
 "cells": [
  {
   "cell_type": "code",
   "execution_count": null,
   "id": "462d6a4d-d712-4788-b2e5-0db7af92a18d",
   "metadata": {},
   "outputs": [],
   "source": []
  },
  {
   "cell_type": "code",
   "execution_count": null,
   "id": "e1f93878-3288-4ba8-9aba-74d340f4dc40",
   "metadata": {
    "jupyter": {
     "source_hidden": true
    }
   },
   "outputs": [],
   "source": [
    "import sys\n",
    "sys.path.append('/home/matheuscalvin/Desktop/Calvin/common_lib')  # add the directory containing fontsies.py\n",
    "# import os\n",
    "\n",
    "# sys.path.append(os.path.abspath('../ascii_printer'))\n",
    "from something import FontPrinter\n",
    "\n",
    "ascii_printer = FontPrinter()\n",
    "ascii_printer.print_word(\"mahjong tiles\")\n"
   ]
  },
  {
   "cell_type": "code",
   "execution_count": null,
   "id": "8606240b-d0f1-48fb-8b3a-389734b755a7",
   "metadata": {},
   "outputs": [],
   "source": [
    "#############################################################################\n",
    "#   #  ###  #   # #####  ###  #   #  ####       ##### ##### #     #####  #### \n",
    "## ## #   # #   #    #  #   # ##  # #             #     #   #     #     #     \n",
    "# # # ##### #####    #  #   # # # # #  ##         #     #   #     ####   ###  \n",
    "#   # #   # #   # #  #  #   # #  ## #   #         #     #   #     #         # \n",
    "#   # #   # #   #  ##    ###  #   #  ####         #   ##### ##### ##### #### \n",
    "#############################################################################\n",
    "'''\n",
    "RIICHI\n",
    "Tiles 0-8: Man (characters) 1-9\n",
    "Tiles 9-17: Pin (circles) 1-9\n",
    "Tiles 18-26: Sou (bamboo) 1-9\n",
    "Tiles 27-30: Honors (East, South, West, North)\n",
    "Tiles 31-33: Dragons (White, Green, Red)\n",
    "\n",
    "Singaporean\n",
    "Tiles 34-37: Flower (season)\n",
    "Tiles 38-41: Flower (flower)\n",
    "Tiles 42-45: Animal\n",
    "'''"
   ]
  },
  {
   "cell_type": "code",
   "execution_count": null,
   "id": "3eb812cd",
   "metadata": {},
   "outputs": [
    {
     "name": "stdout",
     "output_type": "stream",
     "text": [
      "['1man', '1pin', '1sou', '2man', '2pin', '2sou', '3man', '3pin', '3sou', '4man', '4pin', '4sou', '5man', '5pin', '5sou', '6man', '6pin', '6sou', '7man', '7pin', '7sou', '8man', '8pin', '8sou', '9man', '9pin', '9sou', 'E', 'S', 'W', 'N', 'B', 'F', 'Z', '1man', '1pin', '1sou', '2man', '2pin', '2sou', '3man', '3pin', '3sou', '4man', '4pin', '4sou', '5man', '5pin', '5sou', '6man', '6pin', '6sou', '7man', '7pin', '7sou', '8man', '8pin', '8sou', '9man', '9pin', '9sou', 'E', 'S', 'W', 'N', 'B', 'F', 'Z', '1man', '1pin', '1sou', '2man', '2pin', '2sou', '3man', '3pin', '3sou', '4man', '4pin', '4sou', '5man', '5pin', '5sou', '6man', '6pin', '6sou', '7man', '7pin', '7sou', '8man', '8pin', '8sou', '9man', '9pin', '9sou', 'E', 'S', 'W', 'N', 'B', 'F', 'Z', '1man', '1pin', '1sou', '2man', '2pin', '2sou', '3man', '3pin', '3sou', '4man', '4pin', '4sou', '5man', '5pin', '5sou', '6man', '6pin', '6sou', '7man', '7pin', '7sou', '8man', '8pin', '8sou', '9man', '9pin', '9sou', 'E', 'S', 'W', 'N', 'B', 'F', 'Z']\n",
      "['9man', '2man', 'N', '6sou', '7sou', '6sou', '7man', '2sou', 'Z', '8pin', '4sou', '8pin', '9pin', '3sou', '1sou', '6pin', 'E', '7sou', '7man', 'W', '9man', 'Z', 'N', '1sou', 'E', '5pin', '1sou', 'N', '7sou', '4man', 'F', '5man', '8man', '3sou', '4sou', '3sou', '5sou', '6pin', '8sou', 'W', 'B', '4man', '9pin', '7sou', 'B', '7pin', '9pin', 'Z', '7pin', '3man', '5pin', '8pin', 'W', '8sou', 'W', '4pin', 'Z', '5sou', '5sou', '7pin', '3man', '3sou', '4pin', '7man', '2man', '9man', '8sou', 'N', '8man', '3man', 'F', '5man', '9sou', '2pin', '1pin', '4pin', '6man', '1sou', 'F', '2man', '1man', 'S', '8sou', '2sou', '9man', '5sou', '3pin', '2pin', 'B', '5pin', '3pin', '9pin', '2sou', '6pin', '1man', '2sou', '6man', '6man', '4man', '4sou', 'S', 'E', '3pin', '5man', '8man', '2pin', '7pin', '6sou', 'E', '1pin', 'S', '5man', '2pin', '6man', '4pin', 'F', '5pin', '4sou', 'B', '1man', 'S', '9sou', '1man', '7man', '1pin', '6pin', '3pin', '9sou', '2man', '4man', '8man', '6sou', '9sou', '1pin', '8pin', '3man']\n",
      "['9man', '2man', 'N', '6sou', '7sou', '6sou', '7man', '2sou', 'Z', '8pin', '4sou', '8pin', '9pin', '3sou']\n",
      "['1sou', '6pin', 'E', '7sou', '7man', 'W', '9man', 'Z', 'N', '1sou', 'E', '5pin', '1sou', 'N', '7sou', '4man', 'F', '5man', '8man', '3sou', '4sou', '3sou', '5sou', '6pin', '8sou', 'W', 'B', '4man', '9pin', '7sou', 'B', '7pin', '9pin', 'Z', '7pin', '3man', '5pin', '8pin', 'W', '8sou', 'W', '4pin', 'Z', '5sou', '5sou', '7pin', '3man', '3sou', '4pin', '7man', '2man', '9man', '8sou', 'N', '8man', '3man', 'F', '5man', '9sou', '2pin', '1pin', '4pin', '6man', '1sou', 'F', '2man', '1man', 'S', '8sou', '2sou', '9man', '5sou', '3pin', '2pin', 'B', '5pin', '3pin', '9pin', '2sou', '6pin', '1man', '2sou', '6man', '6man', '4man', '4sou', 'S', 'E', '3pin', '5man', '8man', '2pin', '7pin', '6sou', 'E', '1pin', 'S', '5man', '2pin', '6man', '4pin', 'F', '5pin', '4sou', 'B', '1man', 'S', '9sou', '1man', '7man', '1pin', '6pin', '3pin', '9sou', '2man', '4man', '8man', '6sou', '9sou', '1pin', '8pin', '3man']\n"
     ]
    }
   ],
   "source": [
    "import random\n",
    "honor_dictionary = {\n",
    "        'east': 'E',\n",
    "        'south':'S',\n",
    "        'west':'W',\n",
    "        'north':'N',\n",
    "        'white': 'B',\n",
    "        'green': 'F',\n",
    "        'red':'Z'\n",
    "    }\n",
    "all_tiles = []\n",
    "for repetition in range(4):\n",
    "    for number in range(1,10):\n",
    "        all_tiles.append(str(number)+'man')\n",
    "        all_tiles.append(str(number)+'pin')\n",
    "        all_tiles.append(str(number)+'sou')\n",
    "    for honors in honor_dictionary:\n",
    "        all_tiles.append(honor_dictionary[honors])\n",
    "print(all_tiles)\n",
    "random.shuffle(all_tiles)\n",
    "print(all_tiles)\n",
    "dead_wall = all_tiles[:14]\n",
    "live_wall = all_tiles[14:136]\n",
    "\n",
    "\n",
    "\n"
   ]
  },
  {
   "cell_type": "code",
   "execution_count": null,
   "id": "080ce31c-2e7b-4ca0-a3e8-3cc4cf8017c8",
   "metadata": {},
   "outputs": [],
   "source": [
    "class Tiles:\n",
    "    honor_dictionary = {\n",
    "        'east': 'e',\n",
    "        'south':'s',\n",
    "        'west':'w',\n",
    "        'north':'n',\n",
    "        'white': 'b',\n",
    "        'green': 'f',\n",
    "        'red':'z'\n",
    "    }\n",
    "    \n",
    "    def __init__(self,number: int, suit: str) -> None:\n",
    "        self.number = number\n",
    "        self.suit = suit\n",
    "        self.is_red_dora = False\n",
    "\n",
    "    def _isterminal(self) -> bool:\n",
    "        if self.number == 1 or self.number == 9:\n",
    "            return True\n",
    "            \n",
    "    def _ishonor(self) -> bool:\n",
    "        return self.suit in honor_dictionary\n",
    "\n",
    "            \n"
   ]
  },
  {
   "cell_type": "code",
   "execution_count": null,
   "id": "e5eedce4-6738-44fe-b6f8-86ecce880351",
   "metadata": {},
   "outputs": [],
   "source": []
  },
  {
   "cell_type": "code",
   "execution_count": null,
   "id": "736a8842-046a-4835-86d2-06da0da0212a",
   "metadata": {},
   "outputs": [],
   "source": [
    "class hand:\n",
    "    def __init__(self):\n",
    "        self.tiles = []\n",
    "\n",
    "    def add_tiles(self, tile: Tiles) -> None:\n",
    "        ## This is the method to add tiles\n",
    "        self.tiles.append(tile)\n",
    "\n",
    "    def discard_tiles(self, tile: Tiles) -> bool:\n",
    "        ## This is the method to remove tiles\n",
    "        try:\n",
    "            self.tiles.remove(tile)\n",
    "            return True\n",
    "        except ValueError:\n",
    "            return False\n",
    "            \n",
    "    def to_string(self) -> str:\n",
    "        for tile in \n",
    "\n",
    "class discard_pile:\n",
    "    def __init__(self):\n",
    "        self.discard_piles = []\n",
    "        self.riichi_indicator = [0] * len(self.dicard_piles) # just to indicate whether a discarded tile is riichi\n",
    "\n",
    "    def add_tiles(self, tile: Tiles, riichi: int) -> None:\n",
    "        self.discard_piles.append(tile)\n",
    "        self.riichi_indicator.append(riichi) # to indicate whether it is riichi or not\n",
    "        \n",
    "\n",
    "    \n"
   ]
  },
  {
   "cell_type": "code",
   "execution_count": null,
   "id": "57bf274b-f2f4-4a1b-81a2-75a6ee6c5cb6",
   "metadata": {
    "jupyter": {
     "source_hidden": true
    }
   },
   "outputs": [],
   "source": [
    "# class player_brain:\n",
    "#     def __init__(self):\n",
    "#         self.think = think\n",
    "\n",
    "#     def look_at_discard(self, discarded_tile: tiles) -> None:\n",
    "#         ....\n",
    "\n",
    "#     def look_at_hand(self, hand: hand) -> None:\n",
    "#         .....\n",
    "\n",
    "#     def think_remaining(self, full_tile) -> None"
   ]
  },
  {
   "cell_type": "code",
   "execution_count": null,
   "id": "823fd4cf-e85e-4cd5-aa26-0a5632052668",
   "metadata": {},
   "outputs": [],
   "source": [
    "class wall:\n",
    "    def __init__(self):\n",
    "        # Initialize the wall with a list of tiles\n",
    "        self.tile_pile = []\n",
    "        self.dead_wall = []\n",
    "        self.live_wall = []\n",
    "        \n",
    "    def draw_tile(self):\n",
    "        return self.live_wall.pop()\n",
    "\n",
    "    def initialised(self) -> None:\n",
    "        import random\n",
    "        honor_dictionary = {\n",
    "                'east': 'E',\n",
    "                'south':'S',\n",
    "                'west':'W',\n",
    "                'north':'N',\n",
    "                'white': 'B',\n",
    "                'green': 'F',\n",
    "                'red':'Z'\n",
    "            }\n",
    "        all_tiles = []\n",
    "        for repetition in range(4):\n",
    "            for number in range(1,10):\n",
    "                all_tiles.append(str(number)+'man')\n",
    "                all_tiles.append(str(number)+'pin')\n",
    "                all_tiles.append(str(number)+'sou')\n",
    "            for honors in honor_dictionary:\n",
    "                all_tiles.append(honor_dictionary[honors])\n",
    "        \n",
    "        random.shuffle(all_tiles)\n",
    "        \n",
    "        self.dead_wall = all_tiles[:14]\n",
    "        self.live_wall = all_tiles[14:136]\n",
    "    \n",
    "    def end_dora(self):\n",
    "        \n",
    "    \n",
    "    # def what_is_dora(self):\n",
    "\n",
    "    # def kan_called(self):\n",
    "    #     self.dead_wall = -1\n",
    "    #     self.dead_wall.append(self.live_wall.pop(-1))\n",
    "        "
   ]
  },
  {
   "cell_type": "code",
   "execution_count": 3,
   "id": "dbc288bf",
   "metadata": {},
   "outputs": [
    {
     "ename": "NameError",
     "evalue": "name 'number' is not defined",
     "output_type": "error",
     "traceback": [
      "\u001b[1;31m---------------------------------------------------------------------------\u001b[0m",
      "\u001b[1;31mNameError\u001b[0m                                 Traceback (most recent call last)",
      "Cell \u001b[1;32mIn[3], line 1\u001b[0m\n\u001b[1;32m----> 1\u001b[0m [\u001b[43mTiles\u001b[49m\u001b[43m(\u001b[49m\u001b[43m)\u001b[49m \u001b[38;5;129;01min\u001b[39;00m \u001b[38;5;28mrange\u001b[39m(\u001b[38;5;241m46\u001b[39m)]\n",
      "Cell \u001b[1;32mIn[2], line 13\u001b[0m, in \u001b[0;36mTiles.__init__\u001b[1;34m(self)\u001b[0m\n\u001b[0;32m     12\u001b[0m \u001b[38;5;28;01mdef\u001b[39;00m \u001b[38;5;21m__init__\u001b[39m(\u001b[38;5;28mself\u001b[39m) \u001b[38;5;241m-\u001b[39m\u001b[38;5;241m>\u001b[39m \u001b[38;5;28;01mNone\u001b[39;00m:\n\u001b[1;32m---> 13\u001b[0m     \u001b[38;5;28mself\u001b[39m\u001b[38;5;241m.\u001b[39mnumber \u001b[38;5;241m=\u001b[39m \u001b[43mnumber\u001b[49m\n\u001b[0;32m     14\u001b[0m     \u001b[38;5;28mself\u001b[39m\u001b[38;5;241m.\u001b[39msuit \u001b[38;5;241m=\u001b[39m suit\n\u001b[0;32m     15\u001b[0m     \u001b[38;5;28mself\u001b[39m\u001b[38;5;241m.\u001b[39mis_red_dora \u001b[38;5;241m=\u001b[39m \u001b[38;5;28;01mFalse\u001b[39;00m\n",
      "\u001b[1;31mNameError\u001b[0m: name 'number' is not defined"
     ]
    }
   ],
   "source": [
    "[Tiles() in range(46)]"
   ]
  }
 ],
 "metadata": {
  "kernelspec": {
   "display_name": "base",
   "language": "python",
   "name": "python3"
  },
  "language_info": {
   "codemirror_mode": {
    "name": "ipython",
    "version": 3
   },
   "file_extension": ".py",
   "mimetype": "text/x-python",
   "name": "python",
   "nbconvert_exporter": "python",
   "pygments_lexer": "ipython3",
   "version": "3.12.9"
  }
 },
 "nbformat": 4,
 "nbformat_minor": 5
}
