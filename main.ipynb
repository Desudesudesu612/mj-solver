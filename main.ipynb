{
 "cells": [
  {
   "cell_type": "code",
   "execution_count": null,
   "id": "462d6a4d-d712-4788-b2e5-0db7af92a18d",
   "metadata": {},
   "outputs": [],
   "source": []
  },
  {
   "cell_type": "code",
   "execution_count": null,
   "id": "e1f93878-3288-4ba8-9aba-74d340f4dc40",
   "metadata": {
    "jupyter": {
     "source_hidden": true
    }
   },
   "outputs": [],
   "source": [
    "import sys\n",
    "sys.path.append('/home/matheuscalvin/Desktop/Calvin/common_lib')  # add the directory containing fontsies.py\n",
    "# import os\n",
    "\n",
    "# sys.path.append(os.path.abspath('../ascii_printer'))\n",
    "from something import FontPrinter\n",
    "\n",
    "ascii_printer = FontPrinter()\n",
    "ascii_printer.print_word(\"mahjong tiles\")\n"
   ]
  },
  {
   "cell_type": "code",
   "execution_count": null,
   "id": "8606240b-d0f1-48fb-8b3a-389734b755a7",
   "metadata": {},
   "outputs": [],
   "source": [
    "#############################################################################\n",
    "#   #  ###  #   # #####  ###  #   #  ####       ##### ##### #     #####  #### \n",
    "## ## #   # #   #    #  #   # ##  # #             #     #   #     #     #     \n",
    "# # # ##### #####    #  #   # # # # #  ##         #     #   #     ####   ###  \n",
    "#   # #   # #   # #  #  #   # #  ## #   #         #     #   #     #         # \n",
    "#   # #   # #   #  ##    ###  #   #  ####         #   ##### ##### ##### #### \n",
    "#############################################################################\n",
    "'''\n",
    "RIICHI\n",
    "Tiles 0-8: Man (characters) 1-9\n",
    "Tiles 9-17: Pin (circles) 1-9\n",
    "Tiles 18-26: Sou (bamboo) 1-9\n",
    "Tiles 27-30: Honors (East, South, West, North)\n",
    "Tiles 31-33: Dragons (White, Green, Red)\n",
    "\n",
    "Singaporean\n",
    "Tiles 34-37: Flower (season)\n",
    "Tiles 38-41: Flower (flower)\n",
    "Tiles 42-45: Animal\n",
    "'''"
   ]
  },
  {
   "cell_type": "code",
   "execution_count": null,
   "id": "080ce31c-2e7b-4ca0-a3e8-3cc4cf8017c8",
   "metadata": {},
   "outputs": [],
   "source": [
    "class Tiles:\n",
    "    honor_dictionary = {\n",
    "        'east': 'e',\n",
    "        'south':'s',\n",
    "        'west':'w',\n",
    "        'north':'n',\n",
    "        'white': 'b',\n",
    "        'green': 'f',\n",
    "        'red':'z'\n",
    "    }\n",
    "    \n",
    "    def __init__(self) -> None:\n",
    "        self.number = number\n",
    "        self.suit = suit\n",
    "        self.is_red_dora = False\n",
    "\n",
    "    def _isterminal(self) -> bool:\n",
    "        if self.number == 1 or self.number == 9:\n",
    "            return True\n",
    "            \n",
    "    def _ishonor(self) -> bool:\n",
    "        return self.suit in honor_dictionary\n",
    "\n",
    "            \n"
   ]
  },
  {
   "cell_type": "code",
   "execution_count": null,
   "id": "e5eedce4-6738-44fe-b6f8-86ecce880351",
   "metadata": {},
   "outputs": [],
   "source": []
  },
  {
   "cell_type": "code",
   "execution_count": null,
   "id": "736a8842-046a-4835-86d2-06da0da0212a",
   "metadata": {},
   "outputs": [],
   "source": [
    "class hand:\n",
    "    def __init__(self):\n",
    "        self.tiles = []\n",
    "\n",
    "    def add_tiles(self, tile: Tiles) -> None:\n",
    "        ## This is the method to add tiles\n",
    "        self.tiles.append(tile)\n",
    "\n",
    "    def discard_tiles(self, tile: Tiles) -> bool:\n",
    "        ## This is the method to remove tiles\n",
    "        try:\n",
    "            self.tiles.remove(tile)\n",
    "            return True\n",
    "        except ValueError:\n",
    "            return False\n",
    "            \n",
    "    def to_string(self) -> str:\n",
    "        for tile in \n",
    "\n",
    "class discard_pile:\n",
    "    def __init__(self):\n",
    "        self.discard_piles = []\n",
    "        self.riichi_indicator = [0] * len(self.dicard_piles) # just to indicate whether a discarded tile is riichi\n",
    "\n",
    "    def add_tiles(self, tile: Tiles, riichi: int) -> None:\n",
    "        self.discard_piles.append(tile)\n",
    "        self.riichi_indicator.append(riichi) # to indicate whether it is riichi or not\n",
    "\n",
    "    \n"
   ]
  },
  {
   "cell_type": "code",
   "execution_count": null,
   "id": "57bf274b-f2f4-4a1b-81a2-75a6ee6c5cb6",
   "metadata": {
    "jupyter": {
     "source_hidden": true
    }
   },
   "outputs": [],
   "source": [
    "class player_brain:\n",
    "    def __init__(self):\n",
    "        self.think = think\n",
    "\n",
    "    def look_at_discard(self, discarded_tile: tiles) -> None:\n",
    "        ....\n",
    "\n",
    "    def look_at_hand(self, hand: hand) -> None:\n",
    "        .....\n",
    "\n",
    "    def think_remaining(self, full_tile) -> None"
   ]
  },
  {
   "cell_type": "code",
   "execution_count": null,
   "id": "823fd4cf-e85e-4cd5-aa26-0a5632052668",
   "metadata": {},
   "outputs": [],
   "source": [
    "class pile_tile:\n",
    "    def __init__(self):\n",
    "        self.tile_pile = [[]]\n",
    "        self.dead_wall = [[]]\n",
    "        self.live_wall = [[]]\n",
    "        \n",
    "    def draw_tile(self):\n",
    "        return self.live_wall.pop()\n",
    "\n",
    "    \n",
    "    # def what_is_dora(self):\n",
    "\n",
    "    # def kan_called(self):\n",
    "    #     self.dead_wall = -1\n",
    "    #     self.dead_wall.append(self.live_wall.pop(-1))\n",
    "        "
   ]
  }
 ],
 "metadata": {
  "kernelspec": {
   "display_name": "Python 3 (ipykernel)",
   "language": "python",
   "name": "python3"
  },
  "language_info": {
   "codemirror_mode": {
    "name": "ipython",
    "version": 3
   },
   "file_extension": ".py",
   "mimetype": "text/x-python",
   "name": "python",
   "nbconvert_exporter": "python",
   "pygments_lexer": "ipython3",
   "version": "3.12.2"
  }
 },
 "nbformat": 4,
 "nbformat_minor": 5
}
