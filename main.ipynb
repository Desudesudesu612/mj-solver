{
 "cells": [
  {
   "cell_type": "code",
   "execution_count": null,
   "id": "462d6a4d-d712-4788-b2e5-0db7af92a18d",
   "metadata": {},
   "outputs": [],
   "source": []
  },
  {
   "cell_type": "code",
   "execution_count": null,
   "id": "e1f93878-3288-4ba8-9aba-74d340f4dc40",
   "metadata": {
    "jupyter": {
     "source_hidden": true
    }
   },
   "outputs": [],
   "source": [
    "import sys\n",
    "sys.path.append('/home/matheuscalvin/Desktop/Calvin/common_lib')  # add the directory containing fontsies.py\n",
    "# import os\n",
    "\n",
    "# sys.path.append(os.path.abspath('../ascii_printer'))\n",
    "from something import FontPrinter\n",
    "\n",
    "ascii_printer = FontPrinter()\n",
    "ascii_printer.print_word(\"mahjong tiles\")\n"
   ]
  },
  {
   "cell_type": "code",
   "execution_count": null,
   "id": "8606240b-d0f1-48fb-8b3a-389734b755a7",
   "metadata": {},
   "outputs": [],
   "source": [
    "#############################################################################\n",
    "#   #  ###  #   # #####  ###  #   #  ####       ##### ##### #     #####  #### \n",
    "## ## #   # #   #    #  #   # ##  # #             #     #   #     #     #     \n",
    "# # # ##### #####    #  #   # # # # #  ##         #     #   #     ####   ###  \n",
    "#   # #   # #   # #  #  #   # #  ## #   #         #     #   #     #         # \n",
    "#   # #   # #   #  ##    ###  #   #  ####         #   ##### ##### ##### #### \n",
    "#############################################################################\n",
    "'''\n",
    "RIICHI\n",
    "Tiles 0-8: Man (characters) 1-9\n",
    "Tiles 9-17: Pin (circles) 1-9\n",
    "Tiles 18-26: Sou (bamboo) 1-9\n",
    "Tiles 27-30: Honors (East, South, West, North)\n",
    "Tiles 31-33: Dragons (White, Green, Red)\n",
    "\n",
    "Singaporean\n",
    "Tiles 34-37: Flower (season)\n",
    "Tiles 38-41: Flower (flower)\n",
    "Tiles 42-45: Animal\n",
    "'''"
   ]
  },
  {
   "cell_type": "code",
   "execution_count": null,
   "id": "080ce31c-2e7b-4ca0-a3e8-3cc4cf8017c8",
   "metadata": {},
   "outputs": [],
   "source": [
    "class tiles:\n",
    "    def __init__(self):\n",
    "        self.number = number\n",
    "        self.suit = suit\n",
    "        self.is_red_dora = False\n",
    "\n",
    "    def _isterminal(self):\n",
    "        if self.number == 1 or self.number == 9:\n",
    "            \n"
   ]
  },
  {
   "cell_type": "code",
   "execution_count": null,
   "id": "823fd4cf-e85e-4cd5-aa26-0a5632052668",
   "metadata": {},
   "outputs": [],
   "source": [
    "class pile_tile:\n",
    "    def __init__(self):\n",
    "        self.tile_pile = [[]]\n",
    "        self.end_wall = [[]]"
   ]
  }
 ],
 "metadata": {
  "kernelspec": {
   "display_name": "Python 3 (ipykernel)",
   "language": "python",
   "name": "python3"
  },
  "language_info": {
   "codemirror_mode": {
    "name": "ipython",
    "version": 3
   },
   "file_extension": ".py",
   "mimetype": "text/x-python",
   "name": "python",
   "nbconvert_exporter": "python",
   "pygments_lexer": "ipython3",
   "version": "3.12.2"
  }
 },
 "nbformat": 4,
 "nbformat_minor": 5
}
